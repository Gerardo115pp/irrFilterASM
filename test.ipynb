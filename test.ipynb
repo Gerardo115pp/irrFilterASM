{
 "cells": [
  {
   "cell_type": "code",
   "execution_count": 1,
   "metadata": {},
   "outputs": [],
   "source": [
    "import ctypes"
   ]
  },
  {
   "cell_type": "code",
   "execution_count": 2,
   "metadata": {},
   "outputs": [],
   "source": [
    "ctypes.cdll.LoadLibrary(\"./libFilters.so\")\n",
    "filters = ctypes.CDLL(\"./libFilters.so\")"
   ]
  },
  {
   "cell_type": "code",
   "execution_count": 3,
   "metadata": {},
   "outputs": [],
   "source": [
    "irrFilter = filters.irrFilterSSE\n",
    "irrFilter.argtypes = [ctypes.POINTER(ctypes.c_float * 4), ctypes.POINTER(ctypes.c_float * 4), ctypes.c_int]\n",
    "irrFilter.restype = ctypes.c_void_p"
   ]
  },
  {
   "cell_type": "code",
   "execution_count": 4,
   "metadata": {},
   "outputs": [
    {
     "name": "stdout",
     "output_type": "stream",
     "text": [
      "0.0\n",
      "4.300000190734863\n"
     ]
    }
   ],
   "source": [
    "sounds = [4.3, 4.2, 4.1, 4.0]\n",
    "array_type = ctypes.c_float * 4\n",
    "p_sounds = ctypes.pointer(array_type(*[0, 0, 0, 0]))\n",
    "filtred_sounds = ctypes.pointer((array_type(*[0, 0, 0, 0])))\n",
    "p_sounds.contents = array_type(*sounds)\n",
    "print(filtred_sounds.contents[0])\n",
    "print(p_sounds.contents[0])\n",
    "\n",
    "irrFilter(p_sounds, filtred_sounds, len(sounds))"
   ]
  },
  {
   "cell_type": "code",
   "execution_count": 5,
   "metadata": {},
   "outputs": [
    {
     "name": "stdout",
     "output_type": "stream",
     "text": [
      "[5.300000190734863, 6.199999809265137, 7.099999904632568, 32.0]\n"
     ]
    }
   ],
   "source": [
    "print(list(filtred_sounds.contents))"
   ]
  },
  {
   "cell_type": "code",
   "execution_count": 10,
   "metadata": {},
   "outputs": [
    {
     "data": {
      "text/plain": [
       "array([ 7.22366257,  8.78488764, 12.67801012,  6.94057775,  6.26059273,\n",
       "        8.43156747,  7.77136808, 12.03047711,  5.16277654])"
      ]
     },
     "execution_count": 10,
     "metadata": {},
     "output_type": "execute_result"
    }
   ],
   "source": [
    "import numpy as np\n",
    "sounds = (np.random.rand(4)+0.5)*32000\n",
    "p_sounds = ctypes.pointer((ctypes.c_float * len(sounds))(*sounds))\n",
    "print(list(p_sounds.contents))\n",
    "filtred_sounds = ctypes.pointer((ctypes.c_float * len(sounds))(*np.zeros(4)))\n"
   ]
  }
 ],
 "metadata": {
  "interpreter": {
   "hash": "e7370f93d1d0cde622a1f8e1c04877d8463912d04d973331ad4851f04de6915a"
  },
  "kernelspec": {
   "display_name": "Python 3.9.7 64-bit",
   "name": "python3"
  },
  "language_info": {
   "codemirror_mode": {
    "name": "ipython",
    "version": 3
   },
   "file_extension": ".py",
   "mimetype": "text/x-python",
   "name": "python",
   "nbconvert_exporter": "python",
   "pygments_lexer": "ipython3",
   "version": "3.9.7"
  },
  "orig_nbformat": 4
 },
 "nbformat": 4,
 "nbformat_minor": 2
}
